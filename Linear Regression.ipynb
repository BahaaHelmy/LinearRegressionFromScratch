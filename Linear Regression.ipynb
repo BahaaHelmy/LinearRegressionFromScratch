{
 "cells": [
  {
   "cell_type": "code",
   "execution_count": 89,
   "id": "c8429a20",
   "metadata": {},
   "outputs": [],
   "source": [
    "import numpy as np\n",
    "import pandas as pd\n",
    "import matplotlib.pyplot as plt"
   ]
  },
  {
   "cell_type": "code",
   "execution_count": 90,
   "id": "27b1f960",
   "metadata": {},
   "outputs": [],
   "source": [
    "def model(w,x,b):\n",
    "    return w*x+b"
   ]
  },
  {
   "cell_type": "code",
   "execution_count": 91,
   "id": "5d68b743",
   "metadata": {},
   "outputs": [],
   "source": [
    "def loss_function(x,y):\n",
    "    m=len(x)\n",
    "    y1=model(w,x,b)\n",
    "    return (0.5/m)*np.square(y-y1).sum()"
   ]
  },
  {
   "cell_type": "code",
   "execution_count": 106,
   "id": "4516126f",
   "metadata": {},
   "outputs": [],
   "source": [
    "def optimizer(w,b,x,y):\n",
    "    m=len(x)\n",
    "    y1=model(w,x,b)\n",
    "    w=w-LR*((1/m)*((y1-y)*x).sum())\n",
    "    b=b-LR*((1/m)*((y1-y)).sum())\n",
    "    return w, b"
   ]
  },
  {
   "cell_type": "code",
   "execution_count": 107,
   "id": "87428c36",
   "metadata": {},
   "outputs": [],
   "source": [
    "def iterator(LR,x,y,w,b):\n",
    "    loss=[]\n",
    "    for i in range(10):\n",
    "        loss.append(loss_function(x,y))\n",
    "        w,b=optimizer(w,b,x,y)\n",
    "    return w,b\n",
    "        "
   ]
  },
  {
   "cell_type": "code",
   "execution_count": 108,
   "id": "7c2429ca",
   "metadata": {},
   "outputs": [
    {
     "data": {
      "text/plain": [
       "<matplotlib.collections.PathCollection at 0x271926f7b20>"
      ]
     },
     "execution_count": 108,
     "metadata": {},
     "output_type": "execute_result"
    },
    {
     "data": {
      "image/png": "[encoded data removed]",
      "text/plain": [
       "<Figure size 432x288 with 1 Axes>"
      ]
     },
     "metadata": {
      "needs_background": "light"
     },
     "output_type": "display_data"
    }
   ],
   "source": [
    "x=[3,21,22,34,54,34,55,67,89,99]\n",
    "xarr=np.array(x)\n",
    "y=[1,10,14,34,44,36,22,67,79,90]\n",
    "xarr=np.array(x)\n",
    "\n",
    "plt.scatter(x,y)"
   ]
  },
  {
   "cell_type": "code",
   "execution_count": 109,
   "id": "50f4a547",
   "metadata": {},
   "outputs": [],
   "source": [
    "LR=1e-4\n",
    "w=np.random.rand(1)\n",
    "b=np.random.rand(1)\n",
    "w,b=iterator(LR,x,y,w,b)"
   ]
  },
  {
   "cell_type": "code",
   "execution_count": 110,
   "id": "8af76510",
   "metadata": {},
   "outputs": [
    {
     "name": "stdout",
     "output_type": "stream",
     "text": [
      "[0.84503761]\n",
      "[0.70129212]\n"
     ]
    }
   ],
   "source": [
    "print(w)\n",
    "print(b)"
   ]
  },
  {
   "cell_type": "code",
   "execution_count": 111,
   "id": "6e5c929c",
   "metadata": {},
   "outputs": [],
   "source": [
    "x1=np.random.rand(1)\n",
    "y1=model(w,x,b)"
   ]
  },
  {
   "cell_type": "code",
   "execution_count": 112,
   "id": "6f027248",
   "metadata": {},
   "outputs": [
    {
     "data": {
      "text/plain": [
       "[<matplotlib.lines.Line2D at 0x2719274e0b0>]"
      ]
     },
     "execution_count": 112,
     "metadata": {},
     "output_type": "execute_result"
    },
    {
     "data": {
      "image/png": "[encoded data removed]",
      "text/plain": [
       "<Figure size 432x288 with 1 Axes>"
      ]
     },
     "metadata": {
      "needs_background": "light"
     },
     "output_type": "display_data"
    }
   ],
   "source": [
    "x=[3,21,22,34,54,34,55,67,89,99]\n",
    "xarr=np.array(x)\n",
    "y=[1,10,14,34,44,36,22,67,79,90]\n",
    "yarr=np.array(x)\n",
    "plt.scatter(xarr,yarr)\n",
    "plt.plot(x,y1)"
   ]
  },
  {
   "cell_type": "code",
   "execution_count": null,
   "id": "b1cc265d",
   "metadata": {},
   "outputs": [],
   "source": []
  }
 ],
 "metadata": {
  "kernelspec": {
   "display_name": "Python 3 (ipykernel)",
   "language": "python",
   "name": "python3"
  },
  "language_info": {
   "codemirror_mode": {
    "name": "ipython",
    "version": 3
   },
   "file_extension": ".py",
   "mimetype": "text/x-python",
   "name": "python",
   "nbconvert_exporter": "python",
   "pygments_lexer": "ipython3",
   "version": "3.10.4"
  }
 },
 "nbformat": 4,
 "nbformat_minor": 5
}
